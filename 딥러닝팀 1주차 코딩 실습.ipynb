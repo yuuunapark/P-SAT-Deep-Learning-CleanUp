{
 "cells": [
  {
   "cell_type": "markdown",
   "metadata": {
    "id": "-9wIV_W2oAaD"
   },
   "source": [
    "# **딥러닝팀 클린업 1주차 코딩 실습**"
   ]
  },
  {
   "cell_type": "markdown",
   "metadata": {
    "id": "FMDkwSSm-3cO"
   },
   "source": [
    "> Produced by 김예찬 (feat. 구글링, 지멘)"
   ]
  },
  {
   "cell_type": "markdown",
   "metadata": {
    "id": "nPHI186MoXTN"
   },
   "source": [
    "## **0. Colab이란?**"
   ]
  },
  {
   "cell_type": "markdown",
   "metadata": {
    "id": "7SeAlcg8Oai0"
   },
   "source": [
    "---\n",
    "> Colab은 구글에서 제공하는 클라우드 기반 무료 Jupyter Notebook 개발 환경입니다. \n",
    "\n",
    "> 대용량 이미지 데이터 등을 사용하며 행렬 계산이 주를 이루는 딥러닝 모델의 경우 복잡한 연산을 위한 적은 수의 코어를 바탕으로 한 CPU보다는 단순한 행렬 연산을 위한 많은 수의 코어를 기반으로 한 GPU의 성능이 학습 속도를 좌우합니다. 안타깝게도, 안 그래도 비싼 GPU는 비트코인 열풍으로 그 가격이 나날이 치솟는 중입니다...때문에, 우리처럼 딥러닝에 입문하는 사람들이 GPU를 사는 것은 부담이 매우 큽니다.\n",
    "\n",
    "> Colab은 구글에서 제공하는 클라우드를 기반으로 하기 때문에, 구글이 제공하는 양질의 GPU를 사용할 수 있으며, 모든 프로그램은 구글의 서버에서 돌아갑니다. 일반적인 노트북의 경우 딥러닝에 사용할 수 있는 GPU가 장착되어 있지 않은 경우가 많으며, 장착되어야 있다고 해도 개발 속도를 유의미하게 빠르게 해줄 만큼 뛰어난 GPU가 아닌 경우가 많으며, 대다수의 경우 애초에 딥러닝에 사용할 수 없는 GPU입니다.\n",
    "\n",
    "> 따라서, 딥러닝을 입문하는 입장에서 Colab은 필수적으로 익숙해져야 할 개발 환경입니다!\n",
    "---\n"
   ]
  },
  {
   "cell_type": "markdown",
   "metadata": {
    "id": "YZ7L0ZuRTqt1"
   },
   "source": [
    "### **0-1) GPU 사용 현황**"
   ]
  },
  {
   "cell_type": "markdown",
   "metadata": {
    "id": "MK4nmHUVQg-0"
   },
   "source": [
    "그럼 도대체 얼마나 좋은 GPU를 제공하길래 Colab 사용을 강력하게 권장하는 것인지 확인해보겠습니다! 아래의 단계에 따라 Colab에서 GPU를 사용할 수 있도록 환경을 세팅하겠습니다.\n",
    "\n",
    "\n",
    "\n",
    "1.   좌측 상단 '런타임' 클릭\n",
    "2.   '런타임 유형 변경' 클릭\n",
    "3.   '하드웨어 가속기' - 'GPU' 선택 후 저장\n",
    "4.   우측 상단 '연결' 클릭(3번을 끝내면 자동으로 됩니다!)\n",
    "\n"
   ]
  },
  {
   "cell_type": "code",
   "execution_count": null,
   "metadata": {
    "colab": {
     "base_uri": "https://localhost:8080/"
    },
    "executionInfo": {
     "elapsed": 498,
     "status": "ok",
     "timestamp": 1663073151633,
     "user": {
      "displayName": "통계학과/김예찬",
      "userId": "05554326737346741396"
     },
     "user_tz": -540
    },
    "id": "qH1mj1JMONDP",
    "outputId": "9756d5fe-5438-4841-b830-2e1a2db03103"
   },
   "outputs": [
    {
     "name": "stdout",
     "output_type": "stream",
     "text": [
      "Tue Sep 13 12:45:50 2022       \n",
      "+-----------------------------------------------------------------------------+\n",
      "| NVIDIA-SMI 460.32.03    Driver Version: 460.32.03    CUDA Version: 11.2     |\n",
      "|-------------------------------+----------------------+----------------------+\n",
      "| GPU  Name        Persistence-M| Bus-Id        Disp.A | Volatile Uncorr. ECC |\n",
      "| Fan  Temp  Perf  Pwr:Usage/Cap|         Memory-Usage | GPU-Util  Compute M. |\n",
      "|                               |                      |               MIG M. |\n",
      "|===============================+======================+======================|\n",
      "|   0  Tesla T4            Off  | 00000000:00:04.0 Off |                    0 |\n",
      "| N/A   53C    P8    10W /  70W |      0MiB / 15109MiB |      0%      Default |\n",
      "|                               |                      |                  N/A |\n",
      "+-------------------------------+----------------------+----------------------+\n",
      "                                                                               \n",
      "+-----------------------------------------------------------------------------+\n",
      "| Processes:                                                                  |\n",
      "|  GPU   GI   CI        PID   Type   Process name                  GPU Memory |\n",
      "|        ID   ID                                                   Usage      |\n",
      "|=============================================================================|\n",
      "|  No running processes found                                                 |\n",
      "+-----------------------------------------------------------------------------+\n"
     ]
    }
   ],
   "source": [
    "# GPU 사용 현황 확인 - Window 환경에서도 동일한 코드로 확인 가능\n",
    "\n",
    "! nvidia-smi"
   ]
  },
  {
   "cell_type": "markdown",
   "metadata": {
    "id": "vDxc6xlpTWFV"
   },
   "source": [
    "Colab 일반 기준 Tesla T4라는 GPU가 적용되어 있고, 가운데 셀을 보면 (0MiB / 15109MiB)라고 되어있는 것으로 보아 총 용량 약 15GB 중 아직 전혀 사용하지 않고 있음을 확인할 수 있습니다. 추후 딥러닝 모델을 직접 돌릴 때 자주 활용하게 될 코드이니, 기억해두면 좋습니다."
   ]
  },
  {
   "cell_type": "markdown",
   "metadata": {
    "id": "DTnGF5KTTvgo"
   },
   "source": [
    "### **0-2) Drive Mount**"
   ]
  },
  {
   "cell_type": "markdown",
   "metadata": {
    "id": "pyeOTQnyT0f2"
   },
   "source": [
    "---\n",
    "> 딥러닝 모델을 돌리려면 이미지, 텍스트 등 데이터를 불러와서 모델에 입력하게 됩니다. 즉, 이미지나 텍스트를 불러와야 하는데, Colab은 클라우드 기반이기 때문에 로컬 환경(노트북 등)의 데이터를 불러올 수 없습니다.\n",
    "\n",
    "> 따라서, 우리는 구글 드라이브에 필요한 파일을 업로드한 후, 구글 드라이브에 '마운트(Mount)'하여 원하는 데이터를 불러올 수 있습니다. Colab에서 새로운 노트북 파일을 열거나 작성할 때, 가장 먼저 드라이브에 마운트하는 습관을 들이면 좋습니다!\n",
    "\n",
    "> 추가적으로, R의 setwd(), getwd()와 비슷하게 working directory를 쉽게 관리하도록 도와주는 'os' 라이브러리를 불러와 working directory를 필요한 파일이 있는 경로로 변경하겠습니다.\n",
    "---\n"
   ]
  },
  {
   "cell_type": "code",
   "execution_count": null,
   "metadata": {
    "colab": {
     "base_uri": "https://localhost:8080/"
    },
    "executionInfo": {
     "elapsed": 18694,
     "status": "ok",
     "timestamp": 1663073223885,
     "user": {
      "displayName": "통계학과/김예찬",
      "userId": "05554326737346741396"
     },
     "user_tz": -540
    },
    "id": "ACSlO95KQgQ3",
    "outputId": "230fc58e-05ec-4c03-deb0-7d3cfde31a16"
   },
   "outputs": [
    {
     "name": "stdout",
     "output_type": "stream",
     "text": [
      "Mounted at /content/gdrive\n"
     ]
    }
   ],
   "source": [
    "# Drive Mount\n",
    "\n",
    "from google.colab import drive\n",
    "drive.mount('/content/gdrive')\n",
    "\n",
    "# Working Directory 변경\n",
    "\n",
    "import os\n",
    "\n",
    "directory = \"2022PSAT/[딥러닝팀]클린업 1주차 코딩 실습\" # 파일이 있는 디렉토리\n",
    "path = \"/content/gdrive/My Drive/\" + directory\n",
    "os.chdir(path)"
   ]
  },
  {
   "cell_type": "markdown",
   "metadata": {
    "id": "MwbnvbJgvQ5H"
   },
   "source": [
    "### **0-3) 시드 고정**"
   ]
  },
  {
   "cell_type": "code",
   "execution_count": null,
   "metadata": {
    "id": "7KQn6i0gQ8Wc"
   },
   "outputs": [],
   "source": [
    "import random\n",
    "import numpy as np\n",
    "\n",
    "def seed_everything(seed: int = 42):\n",
    "    random.seed(seed)\n",
    "    np.random.seed(seed)\n",
    "    os.environ[\"PYTHONHASHSEED\"] = str(seed)\n",
    "random_state = 42\n",
    "seed_everything(random_state)"
   ]
  },
  {
   "cell_type": "markdown",
   "metadata": {
    "id": "T_0ItIBKpbc1"
   },
   "source": [
    "## **1. 패키지 불러오기**"
   ]
  },
  {
   "cell_type": "markdown",
   "metadata": {
    "id": "eeaozzD_qKbA"
   },
   "source": [
    "---\n",
    "> 이번 1주차 코딩 실습에서는 Tensorflow와 Pytorch를 활용한 아주 간단한 딥러닝 모델을 구현해 볼 예정입니다. 따라서 Tensorflow와 Pytorch를 사용하기 위해서 필요한 패키지들을 불러오도록 하겠습니다.\n",
    "---\n"
   ]
  },
  {
   "cell_type": "markdown",
   "metadata": {
    "id": "Yv5lCVAUpgEc"
   },
   "source": [
    "### **1-1) Tensorflow 패키지**\n"
   ]
  },
  {
   "cell_type": "code",
   "execution_count": null,
   "metadata": {
    "id": "zI2ClVZWRprs"
   },
   "outputs": [],
   "source": [
    "import tensorflow as tf      # Tensorflow 패키지 불러오기\n",
    "from tensorflow.keras.models import Sequential # Tensorflow의 Sequential 모델 불러오기\n",
    "from tensorflow.keras.layers import Dense, Input, BatchNormalization, Flatten, Activation"
   ]
  },
  {
   "cell_type": "markdown",
   "metadata": {
    "id": "99kh2nDSrhTJ"
   },
   "source": [
    "\n",
    "---\n",
    "> Tensorflow에는 딥러닝을 만드는 3가지 방법이 있습니다.\n",
    "\n",
    "\n",
    "> 1. Sequential 모델\n",
    "\n",
    "> Sequential 모델은 가장 구현하기 쉬운 방법으로, 원하는 layer를 순차적으로 add하는 방법입니다. 이 방법은 직관적으로 빠르게 모델을 구현할 수 있지만, 구조가 조금 복잡해지면 구현하기 힘들 수 있다는 단점이 있습니다.\n",
    "\n",
    "> 2. Functional 모델\n",
    "\n",
    "> input layer부터 output layer까지 직접 forward 순서대로 함수 끝에 입력 변수를 넣어주는 방법입니다. 최종적으로는 Model(inputs, outputs) 과 같이 입력 layer와 출력 layer를 지정해 줌으로써 모델을 만들 수 있습니다.\n",
    "\n",
    "> 3. Subclassing 모델\n",
    "\n",
    "> 직접 모델 클래스를 생성하고 Model 모듈을 상속 받는 방법입니다. 그리고 __init__함수에는 사용할 layer들을 작성하고, call함수에는 init에서 작성한 layer에 맞게 forward 해 줍니다. 이 방법은 Pytorch와 방법이 매우 비슷하다고 볼 수 있습니다.\n",
    "\n",
    "> 오늘은 매우 간단한 모델을 구현할 것이기 때문에, 이 3가지 방법 중 Sequential 모델로 구현해보도록 하겠습니다.\n",
    "---\n",
    "\n",
    "\n",
    "\n",
    "\n",
    "\n",
    "\n",
    "\n",
    "\n",
    "\n",
    "\n",
    "\n",
    "\n",
    "\n",
    "\n",
    "\n",
    "\n"
   ]
  },
  {
   "cell_type": "markdown",
   "metadata": {
    "id": "MMJQIcC7qzvH"
   },
   "source": [
    "### **1-2) Pytorch 패키지**"
   ]
  },
  {
   "cell_type": "code",
   "execution_count": null,
   "metadata": {
    "id": "gLAuOELGrPHQ"
   },
   "outputs": [],
   "source": [
    "import torch    # Pytorch 패키지 불러오기\n",
    "import torch.nn as nn    # 여기서 nn은 Neural Network, 즉 신경망을 의미합니다!\n",
    "import torchvision.datasets as datasets\n",
    "import torchvision.transforms as transforms"
   ]
  },
  {
   "cell_type": "markdown",
   "metadata": {
    "id": "xRkCdaf_uw3H"
   },
   "source": [
    "---\n",
    "\n",
    "\n",
    "> torchvision은 Pytorch의 패키지 중 하나로 인기 있는 dataset, 모델 및 컴퓨터 비전을 위한 common image transformation으로 구성되어 있습니다.\n",
    "\n",
    "> 여기서 transforms은 데이터가 학습에 적합하도록 처리하는 과정을 말합니다!\n",
    "---\n",
    "\n",
    "\n",
    "\n"
   ]
  },
  {
   "cell_type": "markdown",
   "metadata": {
    "id": "U4t01UyI5R5Q"
   },
   "source": [
    "### **1-3) 시각화 패키지**"
   ]
  },
  {
   "cell_type": "code",
   "execution_count": null,
   "metadata": {
    "id": "5t5R2d1f5KdF"
   },
   "outputs": [],
   "source": [
    "import matplotlib.pyplot as plt"
   ]
  },
  {
   "cell_type": "markdown",
   "metadata": {
    "id": "7EWY4W6fv_oG"
   },
   "source": [
    "## **2. Tensorflow**"
   ]
  },
  {
   "cell_type": "markdown",
   "metadata": {
    "id": "FW2bmfLWwGN1"
   },
   "source": [
    "### **2-1) 데이터 불러오기**"
   ]
  },
  {
   "cell_type": "markdown",
   "metadata": {
    "id": "kDNVbwg7wM05"
   },
   "source": [
    "---\n",
    "> MNIST는 간단한 컴퓨터 비전 데이터셋입니다. Mnist는 손으로 쓰여진 이미지와 그 라벨로 구성되어 있습니다.\n",
    "\n",
    "> 1주차에서 해볼 실습은 이 MNIST를 사용하여 모델이 이미지를 보고 어떤 숫자인지 예측하는 모델을 훈련시키는 것입니다.\n",
    "\n",
    "> Tensorflow 패키지와 Pytorch 패키지에 모두 MNIST 데이터셋이 있기 때문에 각각 불러와보도록 하겠습니다!\n",
    "---\n",
    "\n"
   ]
  },
  {
   "cell_type": "code",
   "execution_count": null,
   "metadata": {
    "colab": {
     "base_uri": "https://localhost:8080/"
    },
    "executionInfo": {
     "elapsed": 556,
     "status": "ok",
     "timestamp": 1663073251146,
     "user": {
      "displayName": "통계학과/김예찬",
      "userId": "05554326737346741396"
     },
     "user_tz": -540
    },
    "id": "u72F1YskSD6q",
    "outputId": "b806b2c7-c82a-4360-a671-0c62dcbab585"
   },
   "outputs": [
    {
     "name": "stdout",
     "output_type": "stream",
     "text": [
      "Downloading data from https://storage.googleapis.com/tensorflow/tf-keras-datasets/mnist.npz\n",
      "11493376/11490434 [==============================] - 0s 0us/step\n",
      "11501568/11490434 [==============================] - 0s 0us/step\n"
     ]
    }
   ],
   "source": [
    "train, test = tf.keras.datasets.mnist.load_data(\n",
    " path='mnist.npz'\n",
    ") "
   ]
  },
  {
   "cell_type": "markdown",
   "metadata": {
    "id": "w2rmSOxtySat"
   },
   "source": [
    "### **2-2) 데이터 시각화**"
   ]
  },
  {
   "cell_type": "code",
   "execution_count": null,
   "metadata": {
    "colab": {
     "base_uri": "https://localhost:8080/"
    },
    "executionInfo": {
     "elapsed": 284,
     "status": "ok",
     "timestamp": 1663073349124,
     "user": {
      "displayName": "통계학과/김예찬",
      "userId": "05554326737346741396"
     },
     "user_tz": -540
    },
    "id": "1Im7TD91An-h",
    "outputId": "64e902f9-b729-4283-81f2-8851264a91ec"
   },
   "outputs": [
    {
     "data": {
      "text/plain": [
       "(28, 28)"
      ]
     },
     "execution_count": 11,
     "metadata": {},
     "output_type": "execute_result"
    }
   ],
   "source": [
    "image=train[0][0]\n",
    "image.shape"
   ]
  },
  {
   "cell_type": "code",
   "execution_count": null,
   "metadata": {
    "colab": {
     "base_uri": "https://localhost:8080/",
     "height": 283
    },
    "executionInfo": {
     "elapsed": 302,
     "status": "ok",
     "timestamp": 1663073351319,
     "user": {
      "displayName": "통계학과/김예찬",
      "userId": "05554326737346741396"
     },
     "user_tz": -540
    },
    "id": "-qIxDYiCCUVX",
    "outputId": "11382343-0cfd-4185-b5a2-27b62caf7fd1"
   },
   "outputs": [
    {
     "data": {
      "text/plain": [
       "<function matplotlib.pyplot.show(*args, **kw)>"
      ]
     },
     "execution_count": 12,
     "metadata": {},
     "output_type": "execute_result"
    },
    {
     "data": {
      "image/png": "[encoded data removed]",
      "text/plain": [
       "<Figure size 432x288 with 1 Axes>"
      ]
     },
     "metadata": {
      "needs_background": "light"
     },
     "output_type": "display_data"
    }
   ],
   "source": [
    "plt.imshow(image,'gray')\n",
    "plt.show"
   ]
  },
  {
   "cell_type": "code",
   "execution_count": null,
   "metadata": {
    "colab": {
     "base_uri": "https://localhost:8080/"
    },
    "executionInfo": {
     "elapsed": 859,
     "status": "ok",
     "timestamp": 1663073354386,
     "user": {
      "displayName": "통계학과/김예찬",
      "userId": "05554326737346741396"
     },
     "user_tz": -540
    },
    "id": "3T7i0ZGdCipo",
    "outputId": "00a53d62-6114-46c7-9228-dbb26bab3398"
   },
   "outputs": [
    {
     "data": {
      "text/plain": [
       "5"
      ]
     },
     "execution_count": 13,
     "metadata": {},
     "output_type": "execute_result"
    }
   ],
   "source": [
    "train[1][0]    # 라벨 확인"
   ]
  },
  {
   "cell_type": "markdown",
   "metadata": {
    "id": "7AMGuFKTyfy1"
   },
   "source": [
    "### **2-3) 모델 구현**"
   ]
  },
  {
   "cell_type": "code",
   "execution_count": null,
   "metadata": {
    "colab": {
     "base_uri": "https://localhost:8080/"
    },
    "executionInfo": {
     "elapsed": 89194,
     "status": "ok",
     "timestamp": 1663073446884,
     "user": {
      "displayName": "통계학과/김예찬",
      "userId": "05554326737346741396"
     },
     "user_tz": -540
    },
    "id": "_7DSrh67SQ_N",
    "outputId": "60057a7a-c400-4e1d-d732-bff3c1e4005b"
   },
   "outputs": [
    {
     "name": "stdout",
     "output_type": "stream",
     "text": [
      "Epoch 1/10\n",
      "1875/1875 [==============================] - 12s 3ms/step - loss: 0.2035 - accuracy: 0.9383\n",
      "Epoch 2/10\n",
      "1875/1875 [==============================] - 5s 3ms/step - loss: 0.0975 - accuracy: 0.9699\n",
      "Epoch 3/10\n",
      "1875/1875 [==============================] - 5s 3ms/step - loss: 0.0711 - accuracy: 0.9763\n",
      "Epoch 4/10\n",
      "1875/1875 [==============================] - 5s 3ms/step - loss: 0.0567 - accuracy: 0.9816\n",
      "Epoch 5/10\n",
      "1875/1875 [==============================] - 7s 4ms/step - loss: 0.0466 - accuracy: 0.9847\n",
      "Epoch 6/10\n",
      "1875/1875 [==============================] - 6s 3ms/step - loss: 0.0398 - accuracy: 0.9863\n",
      "Epoch 7/10\n",
      "1875/1875 [==============================] - 5s 3ms/step - loss: 0.0337 - accuracy: 0.9890\n",
      "Epoch 8/10\n",
      "1875/1875 [==============================] - 5s 3ms/step - loss: 0.0297 - accuracy: 0.9901\n",
      "Epoch 9/10\n",
      "1875/1875 [==============================] - 5s 3ms/step - loss: 0.0254 - accuracy: 0.9914\n",
      "Epoch 10/10\n",
      "1875/1875 [==============================] - 5s 3ms/step - loss: 0.0256 - accuracy: 0.9912\n"
     ]
    },
    {
     "data": {
      "text/plain": [
       "<keras.callbacks.History at 0x7f097044a0d0>"
      ]
     },
     "execution_count": 14,
     "metadata": {},
     "output_type": "execute_result"
    }
   ],
   "source": [
    "model = Sequential()     # Sequential 모델 사용\n",
    "model.add(Flatten())     # 행렬 형태를 벡터 형태로 변환\n",
    "model.add(Dense(256, kernel_initializer='he_normal', bias_initializer='zeros'))\n",
    "model.add(BatchNormalization())\n",
    "model.add(Activation('relu'))\n",
    "model.add(Dense(256, kernel_initializer='he_normal', bias_initializer='zeros'))\n",
    "model.add(BatchNormalization())\n",
    "model.add(Activation('relu'))\n",
    "model.add(Dense(10, activation='softmax', kernel_initializer='he_normal',\n",
    "bias_initializer='zeros'))   # 왜 마지막 Dense층의 output이 10이고, 활성화 함수로는 softmax를 사용했을까요?\n",
    "model.compile(optimizer='adam',loss='sparse_categorical_crossentropy',\n",
    "metrics=['accuracy'])\n",
    "model.fit(train[0], train[1], epochs=10, batch_size=32)"
   ]
  },
  {
   "cell_type": "markdown",
   "metadata": {
    "id": "ElEV2Ae00_GI"
   },
   "source": [
    "---\n",
    "> Epoch를 10으로 설정해서 돌린 결과 꽤 높은 정확도를 확인할 수 있었습니다! 매우 간단한 모델이니 위 코드들을 하나하나 뜯어서 살펴보면서 왜 이렇게 모델을 구성했는지 고민해보셨으면 좋겠습니다!\n",
    "---"
   ]
  },
  {
   "cell_type": "markdown",
   "metadata": {
    "id": "R14ux4cO2Nqc"
   },
   "source": [
    "## **3. Pytorch**"
   ]
  },
  {
   "cell_type": "markdown",
   "metadata": {
    "id": "tHDmAaPK2SeZ"
   },
   "source": [
    "### **3-1) 데이터 불러오기**"
   ]
  },
  {
   "cell_type": "code",
   "execution_count": null,
   "metadata": {
    "colab": {
     "base_uri": "https://localhost:8080/",
     "height": 457,
     "referenced_widgets": [
      "1ed287b8de5d4134875b48c10b67b558",
      "1ac665306eda4bc197aa90c889150dd2",
      "27d025a224044069a3a65c6f870f5e6c",
      "18513f41508f4e1499c00362c04618af",
      "0bda98e6f6dc456b969bdafc2b5a729c",
      "6c008666337c4d79812c185ae7cef6ca",
      "00b9aab96aa34bdc8162cee63a628e8b",
      "045399dec8b4406e8bbaff003eb7ca4b",
      "32ab2b9bd173409eb9f8c492ddde4cec",
      "82a818a3ce73418a8fcc79fe1f160f2f",
      "eb66aed2f5754919a2e96dc51a6b4d69",
      "501f4e19125d4afa9a7b02fcfb73f8b0",
      "86d1bdda682e41eda597fbaa4999edc0",
      "b1e3364e9a034c459d221334e4da7044",
      "c28bbf487895461285ea9dfbecf9b455",
      "4b2b6d6258864d19a7e4eb240874c746",
      "2d6b86a20af44b97821546df3cb6971b",
      "b6ec34fd800741f89dcc86c61b001dd7",
      "60578456863d494f9447aa7a4c8b4320",
      "40f15f1d5ea44e15befd27e3d7080a8b",
      "dee5281fe3cc445aa8f2b97aaef52e48",
      "d592cfa1aecf45ac82012741c435a27a",
      "d9fde86b86094cddba9ec7cf461750bd",
      "de2fb55869044d618c4e68b88b1a14a2",
      "95c71a88e38b4499bd7f8abb182ac822",
      "467746f6a10744a9b0116c3bdeb43821",
      "5dc3193d77ed4cf6abccaadeab2e0e16",
      "0c158ac3a2734b26b87f1b160f6c9af1",
      "fba2fee83a234fe594d85004dab41ffa",
      "cd10d783eb79455fb421aeaf14c16eff",
      "6305af20417145afa3a1b4698102e852",
      "5e10a236ff2145a5ae7e34ad9e410137",
      "1e6953ce5330482fa3ec86741b496da3",
      "a65082e26b204ea7a6282eeee42e2023",
      "27cf5c5cdf6e488ba7c42782e2593a1e",
      "64dfef7a6eac4a709e15fb8a444fee75",
      "1417b325ff6a4a21940252c8e73cd0d1",
      "4b9ac935e94e436782f02819055c5253",
      "bd980069e2e3444981d258f2b97d15b2",
      "b127a5aac7cb454d945298fd99893f5d",
      "13795a22c55d4762a11814d9a2850bc0",
      "a571229763c04dfda6b0d20f3dcb3b76",
      "2dcd12cf55434031a45bdb92a694b01a",
      "74f80d8b82134cd9a1d50f1f86c81d37"
     ]
    },
    "executionInfo": {
     "elapsed": 2129,
     "status": "ok",
     "timestamp": 1663073682831,
     "user": {
      "displayName": "통계학과/김예찬",
      "userId": "05554326737346741396"
     },
     "user_tz": -540
    },
    "id": "TmSwg0IQlaBY",
    "outputId": "accf3a80-b2b6-4628-9010-6ae6ac7e55d4"
   },
   "outputs": [
    {
     "name": "stdout",
     "output_type": "stream",
     "text": [
      "Downloading http://yann.lecun.com/exdb/mnist/train-images-idx3-ubyte.gz\n",
      "Downloading http://yann.lecun.com/exdb/mnist/train-images-idx3-ubyte.gz to MNIST_data/MNIST/raw/train-images-idx3-ubyte.gz\n"
     ]
    },
    {
     "data": {
      "application/vnd.jupyter.widget-view+json": {
       "model_id": "1ed287b8de5d4134875b48c10b67b558",
       "version_major": 2,
       "version_minor": 0
      },
      "text/plain": [
       "  0%|          | 0/9912422 [00:00<?, ?it/s]"
      ]
     },
     "metadata": {},
     "output_type": "display_data"
    },
    {
     "name": "stdout",
     "output_type": "stream",
     "text": [
      "Extracting MNIST_data/MNIST/raw/train-images-idx3-ubyte.gz to MNIST_data/MNIST/raw\n",
      "\n",
      "Downloading http://yann.lecun.com/exdb/mnist/train-labels-idx1-ubyte.gz\n",
      "Downloading http://yann.lecun.com/exdb/mnist/train-labels-idx1-ubyte.gz to MNIST_data/MNIST/raw/train-labels-idx1-ubyte.gz\n"
     ]
    },
    {
     "data": {
      "application/vnd.jupyter.widget-view+json": {
       "model_id": "501f4e19125d4afa9a7b02fcfb73f8b0",
       "version_major": 2,
       "version_minor": 0
      },
      "text/plain": [
       "  0%|          | 0/28881 [00:00<?, ?it/s]"
      ]
     },
     "metadata": {},
     "output_type": "display_data"
    },
    {
     "name": "stdout",
     "output_type": "stream",
     "text": [
      "Extracting MNIST_data/MNIST/raw/train-labels-idx1-ubyte.gz to MNIST_data/MNIST/raw\n",
      "\n",
      "Downloading http://yann.lecun.com/exdb/mnist/t10k-images-idx3-ubyte.gz\n",
      "Downloading http://yann.lecun.com/exdb/mnist/t10k-images-idx3-ubyte.gz to MNIST_data/MNIST/raw/t10k-images-idx3-ubyte.gz\n"
     ]
    },
    {
     "data": {
      "application/vnd.jupyter.widget-view+json": {
       "model_id": "d9fde86b86094cddba9ec7cf461750bd",
       "version_major": 2,
       "version_minor": 0
      },
      "text/plain": [
       "  0%|          | 0/1648877 [00:00<?, ?it/s]"
      ]
     },
     "metadata": {},
     "output_type": "display_data"
    },
    {
     "name": "stdout",
     "output_type": "stream",
     "text": [
      "Extracting MNIST_data/MNIST/raw/t10k-images-idx3-ubyte.gz to MNIST_data/MNIST/raw\n",
      "\n",
      "Downloading http://yann.lecun.com/exdb/mnist/t10k-labels-idx1-ubyte.gz\n",
      "Downloading http://yann.lecun.com/exdb/mnist/t10k-labels-idx1-ubyte.gz to MNIST_data/MNIST/raw/t10k-labels-idx1-ubyte.gz\n"
     ]
    },
    {
     "data": {
      "application/vnd.jupyter.widget-view+json": {
       "model_id": "a65082e26b204ea7a6282eeee42e2023",
       "version_major": 2,
       "version_minor": 0
      },
      "text/plain": [
       "  0%|          | 0/4542 [00:00<?, ?it/s]"
      ]
     },
     "metadata": {},
     "output_type": "display_data"
    },
    {
     "name": "stdout",
     "output_type": "stream",
     "text": [
      "Extracting MNIST_data/MNIST/raw/t10k-labels-idx1-ubyte.gz to MNIST_data/MNIST/raw\n",
      "\n"
     ]
    }
   ],
   "source": [
    "device = torch.device('cuda' if torch.cuda.is_available() else 'cpu') # gpu 사용 옵션\n",
    "train = datasets.MNIST(root='MNIST_data/', train=True,\n",
    "transform=transforms.ToTensor(), download=True)\n",
    "test = datasets.MNIST(root='MNIST_data/', train=False,\n",
    "transform=transforms.ToTensor(), download=True)\n",
    "data_loader = torch.utils.data.DataLoader(dataset = train, batch_size=32,\n",
    "shuffle=True, drop_last=True) "
   ]
  },
  {
   "cell_type": "markdown",
   "metadata": {
    "id": "UNGZK_8a3YhX"
   },
   "source": [
    "---\n",
    "> Torch 패키지의 dataset을 사용하여 MNIST데이터셋을 불러오고, dataloader을 이용하여 배치사이트 형태로 만들어서 우리가 실제로 학습할 때 이용할 수 있게 형태를 만들어주었습니다.\n",
    "---"
   ]
  },
  {
   "cell_type": "markdown",
   "metadata": {
    "id": "jeXQMhz23wwI"
   },
   "source": [
    "### **3-2) 모델 구현**"
   ]
  },
  {
   "cell_type": "code",
   "execution_count": null,
   "metadata": {
    "colab": {
     "base_uri": "https://localhost:8080/"
    },
    "executionInfo": {
     "elapsed": 102088,
     "status": "ok",
     "timestamp": 1663073871610,
     "user": {
      "displayName": "통계학과/김예찬",
      "userId": "05554326737346741396"
     },
     "user_tz": -540
    },
    "id": "bmLZCUJQ3XMf",
    "outputId": "3157eea7-709a-4b71-a9cd-67c167f9e2a3"
   },
   "outputs": [
    {
     "name": "stdout",
     "output_type": "stream",
     "text": [
      "Epoch: 1, loss: 0.2045\n",
      "Epoch: 2, loss: 0.0982\n",
      "Epoch: 3, loss: 0.0723\n",
      "Epoch: 4, loss: 0.0548\n",
      "Epoch: 5, loss: 0.0476\n",
      "Epoch: 6, loss: 0.0391\n",
      "Epoch: 7, loss: 0.0340\n",
      "Epoch: 8, loss: 0.0307\n",
      "Epoch: 9, loss: 0.0260\n",
      "Epoch: 10, loss: 0.0232\n"
     ]
    }
   ],
   "source": [
    "linear1 = nn.Linear(784, 256, bias=True)\n",
    "linear2 = nn.Linear(256, 256, bias=True)\n",
    "linear3 = nn.Linear(256, 10, bias=True)\n",
    "relu = nn.ReLU()\n",
    "batch1 = nn.BatchNorm1d(256)\n",
    "batch2 = nn.BatchNorm1d(256)\n",
    "nn.init.kaiming_normal_(linear1.weight)\n",
    "nn.init.kaiming_normal_(linear2.weight)\n",
    "nn.init.kaiming_normal_(linear3.weight)\n",
    "model = torch.nn.Sequential(linear1, batch1, relu, linear2, batch2, relu,\n",
    "linear3).to(device)\n",
    "criterion = torch.nn.CrossEntropyLoss().to(device)\n",
    "optimizer = torch.optim.Adam(model.parameters(), lr=0.001)\n",
    "total_batch = len(data_loader)\n",
    "\n",
    "for epoch in range(10):\n",
    "  loss = 0\n",
    "  for X, Y in data_loader:\n",
    "    X = X.view(-1, 28*28).to(device)\n",
    "    Y = Y.to(device)\n",
    "    optimizer.zero_grad()\n",
    "    hypothesis = model(X)\n",
    "    cost = criterion(hypothesis, Y)\n",
    "    cost.backward()\n",
    "    optimizer.step()\n",
    "\n",
    "    loss += cost / total_batch\n",
    "  print(f'Epoch: {epoch+1}, loss: {loss:.4f}')"
   ]
  },
  {
   "cell_type": "markdown",
   "metadata": {
    "id": "v7ep7My--ApH"
   },
   "source": [
    "> Epoch 10회를 돌려 loss를 매우 낮출 수 있었습니다! 추가적으로 Pytorch로는 accuracy를 계산하지 않았는데, 이 부분은 스스로 한번 해보시기 바랍니다."
   ]
  },
  {
   "cell_type": "markdown",
   "metadata": {
    "id": "bmNNv78_924L"
   },
   "source": [
    "## **4. 마무리**"
   ]
  },
  {
   "cell_type": "markdown",
   "metadata": {
    "id": "8MBv6kux9-Tu"
   },
   "source": [
    "---\n",
    "> 지금까지 Tensorflow와 Pytorch를 이용하여 간단한 딥러닝 실습을 진행해 보았습니다. 지금은 매우 간단하게 층을 쌓고 구성했지만, 이후 2주차에서 배울 CNN과 3주차에서 배울 RNN은 더 복잡하게 층을 쌓아야하기 때문에, 이번 코딩 실습을 하나하나 최대한 이해해보시면 좋을 것 같습니다.\n",
    "---"
   ]
  }
 ],
 "metadata": {
  "accelerator": "GPU",
  "colab": {
   "authorship_tag": "ABX9TyPfMwF4oem8CaxuLUKZP4pU",
   "collapsed_sections": [],
   "provenance": [],
   "toc_visible": true
  },
  "gpuClass": "standard",
  "kernelspec": {
   "display_name": "Python 3 (ipykernel)",
   "language": "python",
   "name": "python3"
  },
  "language_info": {
   "codemirror_mode": {
    "name": "ipython",
    "version": 3
   },
   "file_extension": ".py",
   "mimetype": "text/x-python",
   "name": "python",
   "nbconvert_exporter": "python",
   "pygments_lexer": "ipython3",
   "version": "3.9.7"
  },
  "widgets": {
   "application/vnd.jupyter.widget-state+json": {
    "00b9aab96aa34bdc8162cee63a628e8b": {
     "model_module": "@jupyter-widgets/controls",
     "model_module_version": "1.5.0",
     "model_name": "DescriptionStyleModel",
     "state": {
      "_model_module": "@jupyter-widgets/controls",
      "_model_module_version": "1.5.0",
      "_model_name": "DescriptionStyleModel",
      "_view_count": null,
      "_view_module": "@jupyter-widgets/base",
      "_view_module_version": "1.2.0",
      "_view_name": "StyleView",
      "description_width": ""
     }
    },
    "045399dec8b4406e8bbaff003eb7ca4b": {
     "model_module": "@jupyter-widgets/base",
     "model_module_version": "1.2.0",
     "model_name": "LayoutModel",
     "state": {
      "_model_module": "@jupyter-widgets/base",
      "_model_module_version": "1.2.0",
      "_model_name": "LayoutModel",
      "_view_count": null,
      "_view_module": "@jupyter-widgets/base",
      "_view_module_version": "1.2.0",
      "_view_name": "LayoutView",
      "align_content": null,
      "align_items": null,
      "align_self": null,
      "border": null,
      "bottom": null,
      "display": null,
      "flex": null,
      "flex_flow": null,
      "grid_area": null,
      "grid_auto_columns": null,
      "grid_auto_flow": null,
      "grid_auto_rows": null,
      "grid_column": null,
      "grid_gap": null,
      "grid_row": null,
      "grid_template_areas": null,
      "grid_template_columns": null,
      "grid_template_rows": null,
      "height": null,
      "justify_content": null,
      "justify_items": null,
      "left": null,
      "margin": null,
      "max_height": null,
      "max_width": null,
      "min_height": null,
      "min_width": null,
      "object_fit": null,
      "object_position": null,
      "order": null,
      "overflow": null,
      "overflow_x": null,
      "overflow_y": null,
      "padding": null,
      "right": null,
      "top": null,
      "visibility": null,
      "width": null
     }
    },
    "0bda98e6f6dc456b969bdafc2b5a729c": {
     "model_module": "@jupyter-widgets/base",
     "model_module_version": "1.2.0",
     "model_name": "LayoutModel",
     "state": {
      "_model_module": "@jupyter-widgets/base",
      "_model_module_version": "1.2.0",
      "_model_name": "LayoutModel",
      "_view_count": null,
      "_view_module": "@jupyter-widgets/base",
      "_view_module_version": "1.2.0",
      "_view_name": "LayoutView",
      "align_content": null,
      "align_items": null,
      "align_self": null,
      "border": null,
      "bottom": null,
      "display": null,
      "flex": null,
      "flex_flow": null,
      "grid_area": null,
      "grid_auto_columns": null,
      "grid_auto_flow": null,
      "grid_auto_rows": null,
      "grid_column": null,
      "grid_gap": null,
      "grid_row": null,
      "grid_template_areas": null,
      "grid_template_columns": null,
      "grid_template_rows": null,
      "height": null,
      "justify_content": null,
      "justify_items": null,
      "left": null,
      "margin": null,
      "max_height": null,
      "max_width": null,
      "min_height": null,
      "min_width": null,
      "object_fit": null,
      "object_position": null,
      "order": null,
      "overflow": null,
      "overflow_x": null,
      "overflow_y": null,
      "padding": null,
      "right": null,
      "top": null,
      "visibility": null,
      "width": null
     }
    },
    "0c158ac3a2734b26b87f1b160f6c9af1": {
     "model_module": "@jupyter-widgets/base",
     "model_module_version": "1.2.0",
     "model_name": "LayoutModel",
     "state": {
      "_model_module": "@jupyter-widgets/base",
      "_model_module_version": "1.2.0",
      "_model_name": "LayoutModel",
      "_view_count": null,
      "_view_module": "@jupyter-widgets/base",
      "_view_module_version": "1.2.0",
      "_view_name": "LayoutView",
      "align_content": null,
      "align_items": null,
      "align_self": null,
      "border": null,
      "bottom": null,
      "display": null,
      "flex": null,
      "flex_flow": null,
      "grid_area": null,
      "grid_auto_columns": null,
      "grid_auto_flow": null,
      "grid_auto_rows": null,
      "grid_column": null,
      "grid_gap": null,
      "grid_row": null,
      "grid_template_areas": null,
      "grid_template_columns": null,
      "grid_template_rows": null,
      "height": null,
      "justify_content": null,
      "justify_items": null,
      "left": null,
      "margin": null,
      "max_height": null,
      "max_width": null,
      "min_height": null,
      "min_width": null,
      "object_fit": null,
      "object_position": null,
      "order": null,
      "overflow": null,
      "overflow_x": null,
      "overflow_y": null,
      "padding": null,
      "right": null,
      "top": null,
      "visibility": null,
      "width": null
     }
    },
    "13795a22c55d4762a11814d9a2850bc0": {
     "model_module": "@jupyter-widgets/base",
     "model_module_version": "1.2.0",
     "model_name": "LayoutModel",
     "state": {
      "_model_module": "@jupyter-widgets/base",
      "_model_module_version": "1.2.0",
      "_model_name": "LayoutModel",
      "_view_count": null,
      "_view_module": "@jupyter-widgets/base",
      "_view_module_version": "1.2.0",
      "_view_name": "LayoutView",
      "align_content": null,
      "align_items": null,
      "align_self": null,
      "border": null,
      "bottom": null,
      "display": null,
      "flex": null,
      "flex_flow": null,
      "grid_area": null,
      "grid_auto_columns": null,
      "grid_auto_flow": null,
      "grid_auto_rows": null,
      "grid_column": null,
      "grid_gap": null,
      "grid_row": null,
      "grid_template_areas": null,
      "grid_template_columns": null,
      "grid_template_rows": null,
      "height": null,
      "justify_content": null,
      "justify_items": null,
      "left": null,
      "margin": null,
      "max_height": null,
      "max_width": null,
      "min_height": null,
      "min_width": null,
      "object_fit": null,
      "object_position": null,
      "order": null,
      "overflow": null,
      "overflow_x": null,
      "overflow_y": null,
      "padding": null,
      "right": null,
      "top": null,
      "visibility": null,
      "width": null
     }
    },
    "1417b325ff6a4a21940252c8e73cd0d1": {
     "model_module": "@jupyter-widgets/controls",
     "model_module_version": "1.5.0",
     "model_name": "HTMLModel",
     "state": {
      "_dom_classes": [],
      "_model_module": "@jupyter-widgets/controls",
      "_model_module_version": "1.5.0",
      "_model_name": "HTMLModel",
      "_view_count": null,
      "_view_module": "@jupyter-widgets/controls",
      "_view_module_version": "1.5.0",
      "_view_name": "HTMLView",
      "description": "",
      "description_tooltip": null,
      "layout": "IPY_MODEL_2dcd12cf55434031a45bdb92a694b01a",
      "placeholder": "​",
      "style": "IPY_MODEL_74f80d8b82134cd9a1d50f1f86c81d37",
      "value": " 4542/4542 [00:00&lt;00:00, 121675.75it/s]"
     }
    },
    "18513f41508f4e1499c00362c04618af": {
     "model_module": "@jupyter-widgets/controls",
     "model_module_version": "1.5.0",
     "model_name": "HTMLModel",
     "state": {
      "_dom_classes": [],
      "_model_module": "@jupyter-widgets/controls",
      "_model_module_version": "1.5.0",
      "_model_name": "HTMLModel",
      "_view_count": null,
      "_view_module": "@jupyter-widgets/controls",
      "_view_module_version": "1.5.0",
      "_view_name": "HTMLView",
      "description": "",
      "description_tooltip": null,
      "layout": "IPY_MODEL_82a818a3ce73418a8fcc79fe1f160f2f",
      "placeholder": "​",
      "style": "IPY_MODEL_eb66aed2f5754919a2e96dc51a6b4d69",
      "value": " 9912422/9912422 [00:00&lt;00:00, 4906407.94it/s]"
     }
    },
    "1ac665306eda4bc197aa90c889150dd2": {
     "model_module": "@jupyter-widgets/controls",
     "model_module_version": "1.5.0",
     "model_name": "HTMLModel",
     "state": {
      "_dom_classes": [],
      "_model_module": "@jupyter-widgets/controls",
      "_model_module_version": "1.5.0",
      "_model_name": "HTMLModel",
      "_view_count": null,
      "_view_module": "@jupyter-widgets/controls",
      "_view_module_version": "1.5.0",
      "_view_name": "HTMLView",
      "description": "",
      "description_tooltip": null,
      "layout": "IPY_MODEL_6c008666337c4d79812c185ae7cef6ca",
      "placeholder": "​",
      "style": "IPY_MODEL_00b9aab96aa34bdc8162cee63a628e8b",
      "value": "100%"
     }
    },
    "1e6953ce5330482fa3ec86741b496da3": {
     "model_module": "@jupyter-widgets/controls",
     "model_module_version": "1.5.0",
     "model_name": "DescriptionStyleModel",
     "state": {
      "_model_module": "@jupyter-widgets/controls",
      "_model_module_version": "1.5.0",
      "_model_name": "DescriptionStyleModel",
      "_view_count": null,
      "_view_module": "@jupyter-widgets/base",
      "_view_module_version": "1.2.0",
      "_view_name": "StyleView",
      "description_width": ""
     }
    },
    "1ed287b8de5d4134875b48c10b67b558": {
     "model_module": "@jupyter-widgets/controls",
     "model_module_version": "1.5.0",
     "model_name": "HBoxModel",
     "state": {
      "_dom_classes": [],
      "_model_module": "@jupyter-widgets/controls",
      "_model_module_version": "1.5.0",
      "_model_name": "HBoxModel",
      "_view_count": null,
      "_view_module": "@jupyter-widgets/controls",
      "_view_module_version": "1.5.0",
      "_view_name": "HBoxView",
      "box_style": "",
      "children": [
       "IPY_MODEL_1ac665306eda4bc197aa90c889150dd2",
       "IPY_MODEL_27d025a224044069a3a65c6f870f5e6c",
       "IPY_MODEL_18513f41508f4e1499c00362c04618af"
      ],
      "layout": "IPY_MODEL_0bda98e6f6dc456b969bdafc2b5a729c"
     }
    },
    "27cf5c5cdf6e488ba7c42782e2593a1e": {
     "model_module": "@jupyter-widgets/controls",
     "model_module_version": "1.5.0",
     "model_name": "HTMLModel",
     "state": {
      "_dom_classes": [],
      "_model_module": "@jupyter-widgets/controls",
      "_model_module_version": "1.5.0",
      "_model_name": "HTMLModel",
      "_view_count": null,
      "_view_module": "@jupyter-widgets/controls",
      "_view_module_version": "1.5.0",
      "_view_name": "HTMLView",
      "description": "",
      "description_tooltip": null,
      "layout": "IPY_MODEL_bd980069e2e3444981d258f2b97d15b2",
      "placeholder": "​",
      "style": "IPY_MODEL_b127a5aac7cb454d945298fd99893f5d",
      "value": "100%"
     }
    },
    "27d025a224044069a3a65c6f870f5e6c": {
     "model_module": "@jupyter-widgets/controls",
     "model_module_version": "1.5.0",
     "model_name": "FloatProgressModel",
     "state": {
      "_dom_classes": [],
      "_model_module": "@jupyter-widgets/controls",
      "_model_module_version": "1.5.0",
      "_model_name": "FloatProgressModel",
      "_view_count": null,
      "_view_module": "@jupyter-widgets/controls",
      "_view_module_version": "1.5.0",
      "_view_name": "ProgressView",
      "bar_style": "success",
      "description": "",
      "description_tooltip": null,
      "layout": "IPY_MODEL_045399dec8b4406e8bbaff003eb7ca4b",
      "max": 9912422,
      "min": 0,
      "orientation": "horizontal",
      "style": "IPY_MODEL_32ab2b9bd173409eb9f8c492ddde4cec",
      "value": 9912422
     }
    },
    "2d6b86a20af44b97821546df3cb6971b": {
     "model_module": "@jupyter-widgets/base",
     "model_module_version": "1.2.0",
     "model_name": "LayoutModel",
     "state": {
      "_model_module": "@jupyter-widgets/base",
      "_model_module_version": "1.2.0",
      "_model_name": "LayoutModel",
      "_view_count": null,
      "_view_module": "@jupyter-widgets/base",
      "_view_module_version": "1.2.0",
      "_view_name": "LayoutView",
      "align_content": null,
      "align_items": null,
      "align_self": null,
      "border": null,
      "bottom": null,
      "display": null,
      "flex": null,
      "flex_flow": null,
      "grid_area": null,
      "grid_auto_columns": null,
      "grid_auto_flow": null,
      "grid_auto_rows": null,
      "grid_column": null,
      "grid_gap": null,
      "grid_row": null,
      "grid_template_areas": null,
      "grid_template_columns": null,
      "grid_template_rows": null,
      "height": null,
      "justify_content": null,
      "justify_items": null,
      "left": null,
      "margin": null,
      "max_height": null,
      "max_width": null,
      "min_height": null,
      "min_width": null,
      "object_fit": null,
      "object_position": null,
      "order": null,
      "overflow": null,
      "overflow_x": null,
      "overflow_y": null,
      "padding": null,
      "right": null,
      "top": null,
      "visibility": null,
      "width": null
     }
    },
    "2dcd12cf55434031a45bdb92a694b01a": {
     "model_module": "@jupyter-widgets/base",
     "model_module_version": "1.2.0",
     "model_name": "LayoutModel",
     "state": {
      "_model_module": "@jupyter-widgets/base",
      "_model_module_version": "1.2.0",
      "_model_name": "LayoutModel",
      "_view_count": null,
      "_view_module": "@jupyter-widgets/base",
      "_view_module_version": "1.2.0",
      "_view_name": "LayoutView",
      "align_content": null,
      "align_items": null,
      "align_self": null,
      "border": null,
      "bottom": null,
      "display": null,
      "flex": null,
      "flex_flow": null,
      "grid_area": null,
      "grid_auto_columns": null,
      "grid_auto_flow": null,
      "grid_auto_rows": null,
      "grid_column": null,
      "grid_gap": null,
      "grid_row": null,
      "grid_template_areas": null,
      "grid_template_columns": null,
      "grid_template_rows": null,
      "height": null,
      "justify_content": null,
      "justify_items": null,
      "left": null,
      "margin": null,
      "max_height": null,
      "max_width": null,
      "min_height": null,
      "min_width": null,
      "object_fit": null,
      "object_position": null,
      "order": null,
      "overflow": null,
      "overflow_x": null,
      "overflow_y": null,
      "padding": null,
      "right": null,
      "top": null,
      "visibility": null,
      "width": null
     }
    },
    "32ab2b9bd173409eb9f8c492ddde4cec": {
     "model_module": "@jupyter-widgets/controls",
     "model_module_version": "1.5.0",
     "model_name": "ProgressStyleModel",
     "state": {
      "_model_module": "@jupyter-widgets/controls",
      "_model_module_version": "1.5.0",
      "_model_name": "ProgressStyleModel",
      "_view_count": null,
      "_view_module": "@jupyter-widgets/base",
      "_view_module_version": "1.2.0",
      "_view_name": "StyleView",
      "bar_color": null,
      "description_width": ""
     }
    },
    "40f15f1d5ea44e15befd27e3d7080a8b": {
     "model_module": "@jupyter-widgets/controls",
     "model_module_version": "1.5.0",
     "model_name": "ProgressStyleModel",
     "state": {
      "_model_module": "@jupyter-widgets/controls",
      "_model_module_version": "1.5.0",
      "_model_name": "ProgressStyleModel",
      "_view_count": null,
      "_view_module": "@jupyter-widgets/base",
      "_view_module_version": "1.2.0",
      "_view_name": "StyleView",
      "bar_color": null,
      "description_width": ""
     }
    },
    "467746f6a10744a9b0116c3bdeb43821": {
     "model_module": "@jupyter-widgets/controls",
     "model_module_version": "1.5.0",
     "model_name": "HTMLModel",
     "state": {
      "_dom_classes": [],
      "_model_module": "@jupyter-widgets/controls",
      "_model_module_version": "1.5.0",
      "_model_name": "HTMLModel",
      "_view_count": null,
      "_view_module": "@jupyter-widgets/controls",
      "_view_module_version": "1.5.0",
      "_view_name": "HTMLView",
      "description": "",
      "description_tooltip": null,
      "layout": "IPY_MODEL_5e10a236ff2145a5ae7e34ad9e410137",
      "placeholder": "​",
      "style": "IPY_MODEL_1e6953ce5330482fa3ec86741b496da3",
      "value": " 1648877/1648877 [00:00&lt;00:00, 10149886.15it/s]"
     }
    },
    "4b2b6d6258864d19a7e4eb240874c746": {
     "model_module": "@jupyter-widgets/base",
     "model_module_version": "1.2.0",
     "model_name": "LayoutModel",
     "state": {
      "_model_module": "@jupyter-widgets/base",
      "_model_module_version": "1.2.0",
      "_model_name": "LayoutModel",
      "_view_count": null,
      "_view_module": "@jupyter-widgets/base",
      "_view_module_version": "1.2.0",
      "_view_name": "LayoutView",
      "align_content": null,
      "align_items": null,
      "align_self": null,
      "border": null,
      "bottom": null,
      "display": null,
      "flex": null,
      "flex_flow": null,
      "grid_area": null,
      "grid_auto_columns": null,
      "grid_auto_flow": null,
      "grid_auto_rows": null,
      "grid_column": null,
      "grid_gap": null,
      "grid_row": null,
      "grid_template_areas": null,
      "grid_template_columns": null,
      "grid_template_rows": null,
      "height": null,
      "justify_content": null,
      "justify_items": null,
      "left": null,
      "margin": null,
      "max_height": null,
      "max_width": null,
      "min_height": null,
      "min_width": null,
      "object_fit": null,
      "object_position": null,
      "order": null,
      "overflow": null,
      "overflow_x": null,
      "overflow_y": null,
      "padding": null,
      "right": null,
      "top": null,
      "visibility": null,
      "width": null
     }
    },
    "4b9ac935e94e436782f02819055c5253": {
     "model_module": "@jupyter-widgets/base",
     "model_module_version": "1.2.0",
     "model_name": "LayoutModel",
     "state": {
      "_model_module": "@jupyter-widgets/base",
      "_model_module_version": "1.2.0",
      "_model_name": "LayoutModel",
      "_view_count": null,
      "_view_module": "@jupyter-widgets/base",
      "_view_module_version": "1.2.0",
      "_view_name": "LayoutView",
      "align_content": null,
      "align_items": null,
      "align_self": null,
      "border": null,
      "bottom": null,
      "display": null,
      "flex": null,
      "flex_flow": null,
      "grid_area": null,
      "grid_auto_columns": null,
      "grid_auto_flow": null,
      "grid_auto_rows": null,
      "grid_column": null,
      "grid_gap": null,
      "grid_row": null,
      "grid_template_areas": null,
      "grid_template_columns": null,
      "grid_template_rows": null,
      "height": null,
      "justify_content": null,
      "justify_items": null,
      "left": null,
      "margin": null,
      "max_height": null,
      "max_width": null,
      "min_height": null,
      "min_width": null,
      "object_fit": null,
      "object_position": null,
      "order": null,
      "overflow": null,
      "overflow_x": null,
      "overflow_y": null,
      "padding": null,
      "right": null,
      "top": null,
      "visibility": null,
      "width": null
     }
    },
    "501f4e19125d4afa9a7b02fcfb73f8b0": {
     "model_module": "@jupyter-widgets/controls",
     "model_module_version": "1.5.0",
     "model_name": "HBoxModel",
     "state": {
      "_dom_classes": [],
      "_model_module": "@jupyter-widgets/controls",
      "_model_module_version": "1.5.0",
      "_model_name": "HBoxModel",
      "_view_count": null,
      "_view_module": "@jupyter-widgets/controls",
      "_view_module_version": "1.5.0",
      "_view_name": "HBoxView",
      "box_style": "",
      "children": [
       "IPY_MODEL_86d1bdda682e41eda597fbaa4999edc0",
       "IPY_MODEL_b1e3364e9a034c459d221334e4da7044",
       "IPY_MODEL_c28bbf487895461285ea9dfbecf9b455"
      ],
      "layout": "IPY_MODEL_4b2b6d6258864d19a7e4eb240874c746"
     }
    },
    "5dc3193d77ed4cf6abccaadeab2e0e16": {
     "model_module": "@jupyter-widgets/base",
     "model_module_version": "1.2.0",
     "model_name": "LayoutModel",
     "state": {
      "_model_module": "@jupyter-widgets/base",
      "_model_module_version": "1.2.0",
      "_model_name": "LayoutModel",
      "_view_count": null,
      "_view_module": "@jupyter-widgets/base",
      "_view_module_version": "1.2.0",
      "_view_name": "LayoutView",
      "align_content": null,
      "align_items": null,
      "align_self": null,
      "border": null,
      "bottom": null,
      "display": null,
      "flex": null,
      "flex_flow": null,
      "grid_area": null,
      "grid_auto_columns": null,
      "grid_auto_flow": null,
      "grid_auto_rows": null,
      "grid_column": null,
      "grid_gap": null,
      "grid_row": null,
      "grid_template_areas": null,
      "grid_template_columns": null,
      "grid_template_rows": null,
      "height": null,
      "justify_content": null,
      "justify_items": null,
      "left": null,
      "margin": null,
      "max_height": null,
      "max_width": null,
      "min_height": null,
      "min_width": null,
      "object_fit": null,
      "object_position": null,
      "order": null,
      "overflow": null,
      "overflow_x": null,
      "overflow_y": null,
      "padding": null,
      "right": null,
      "top": null,
      "visibility": null,
      "width": null
     }
    },
    "5e10a236ff2145a5ae7e34ad9e410137": {
     "model_module": "@jupyter-widgets/base",
     "model_module_version": "1.2.0",
     "model_name": "LayoutModel",
     "state": {
      "_model_module": "@jupyter-widgets/base",
      "_model_module_version": "1.2.0",
      "_model_name": "LayoutModel",
      "_view_count": null,
      "_view_module": "@jupyter-widgets/base",
      "_view_module_version": "1.2.0",
      "_view_name": "LayoutView",
      "align_content": null,
      "align_items": null,
      "align_self": null,
      "border": null,
      "bottom": null,
      "display": null,
      "flex": null,
      "flex_flow": null,
      "grid_area": null,
      "grid_auto_columns": null,
      "grid_auto_flow": null,
      "grid_auto_rows": null,
      "grid_column": null,
      "grid_gap": null,
      "grid_row": null,
      "grid_template_areas": null,
      "grid_template_columns": null,
      "grid_template_rows": null,
      "height": null,
      "justify_content": null,
      "justify_items": null,
      "left": null,
      "margin": null,
      "max_height": null,
      "max_width": null,
      "min_height": null,
      "min_width": null,
      "object_fit": null,
      "object_position": null,
      "order": null,
      "overflow": null,
      "overflow_x": null,
      "overflow_y": null,
      "padding": null,
      "right": null,
      "top": null,
      "visibility": null,
      "width": null
     }
    },
    "60578456863d494f9447aa7a4c8b4320": {
     "model_module": "@jupyter-widgets/base",
     "model_module_version": "1.2.0",
     "model_name": "LayoutModel",
     "state": {
      "_model_module": "@jupyter-widgets/base",
      "_model_module_version": "1.2.0",
      "_model_name": "LayoutModel",
      "_view_count": null,
      "_view_module": "@jupyter-widgets/base",
      "_view_module_version": "1.2.0",
      "_view_name": "LayoutView",
      "align_content": null,
      "align_items": null,
      "align_self": null,
      "border": null,
      "bottom": null,
      "display": null,
      "flex": null,
      "flex_flow": null,
      "grid_area": null,
      "grid_auto_columns": null,
      "grid_auto_flow": null,
      "grid_auto_rows": null,
      "grid_column": null,
      "grid_gap": null,
      "grid_row": null,
      "grid_template_areas": null,
      "grid_template_columns": null,
      "grid_template_rows": null,
      "height": null,
      "justify_content": null,
      "justify_items": null,
      "left": null,
      "margin": null,
      "max_height": null,
      "max_width": null,
      "min_height": null,
      "min_width": null,
      "object_fit": null,
      "object_position": null,
      "order": null,
      "overflow": null,
      "overflow_x": null,
      "overflow_y": null,
      "padding": null,
      "right": null,
      "top": null,
      "visibility": null,
      "width": null
     }
    },
    "6305af20417145afa3a1b4698102e852": {
     "model_module": "@jupyter-widgets/controls",
     "model_module_version": "1.5.0",
     "model_name": "ProgressStyleModel",
     "state": {
      "_model_module": "@jupyter-widgets/controls",
      "_model_module_version": "1.5.0",
      "_model_name": "ProgressStyleModel",
      "_view_count": null,
      "_view_module": "@jupyter-widgets/base",
      "_view_module_version": "1.2.0",
      "_view_name": "StyleView",
      "bar_color": null,
      "description_width": ""
     }
    },
    "64dfef7a6eac4a709e15fb8a444fee75": {
     "model_module": "@jupyter-widgets/controls",
     "model_module_version": "1.5.0",
     "model_name": "FloatProgressModel",
     "state": {
      "_dom_classes": [],
      "_model_module": "@jupyter-widgets/controls",
      "_model_module_version": "1.5.0",
      "_model_name": "FloatProgressModel",
      "_view_count": null,
      "_view_module": "@jupyter-widgets/controls",
      "_view_module_version": "1.5.0",
      "_view_name": "ProgressView",
      "bar_style": "success",
      "description": "",
      "description_tooltip": null,
      "layout": "IPY_MODEL_13795a22c55d4762a11814d9a2850bc0",
      "max": 4542,
      "min": 0,
      "orientation": "horizontal",
      "style": "IPY_MODEL_a571229763c04dfda6b0d20f3dcb3b76",
      "value": 4542
     }
    },
    "6c008666337c4d79812c185ae7cef6ca": {
     "model_module": "@jupyter-widgets/base",
     "model_module_version": "1.2.0",
     "model_name": "LayoutModel",
     "state": {
      "_model_module": "@jupyter-widgets/base",
      "_model_module_version": "1.2.0",
      "_model_name": "LayoutModel",
      "_view_count": null,
      "_view_module": "@jupyter-widgets/base",
      "_view_module_version": "1.2.0",
      "_view_name": "LayoutView",
      "align_content": null,
      "align_items": null,
      "align_self": null,
      "border": null,
      "bottom": null,
      "display": null,
      "flex": null,
      "flex_flow": null,
      "grid_area": null,
      "grid_auto_columns": null,
      "grid_auto_flow": null,
      "grid_auto_rows": null,
      "grid_column": null,
      "grid_gap": null,
      "grid_row": null,
      "grid_template_areas": null,
      "grid_template_columns": null,
      "grid_template_rows": null,
      "height": null,
      "justify_content": null,
      "justify_items": null,
      "left": null,
      "margin": null,
      "max_height": null,
      "max_width": null,
      "min_height": null,
      "min_width": null,
      "object_fit": null,
      "object_position": null,
      "order": null,
      "overflow": null,
      "overflow_x": null,
      "overflow_y": null,
      "padding": null,
      "right": null,
      "top": null,
      "visibility": null,
      "width": null
     }
    },
    "74f80d8b82134cd9a1d50f1f86c81d37": {
     "model_module": "@jupyter-widgets/controls",
     "model_module_version": "1.5.0",
     "model_name": "DescriptionStyleModel",
     "state": {
      "_model_module": "@jupyter-widgets/controls",
      "_model_module_version": "1.5.0",
      "_model_name": "DescriptionStyleModel",
      "_view_count": null,
      "_view_module": "@jupyter-widgets/base",
      "_view_module_version": "1.2.0",
      "_view_name": "StyleView",
      "description_width": ""
     }
    },
    "82a818a3ce73418a8fcc79fe1f160f2f": {
     "model_module": "@jupyter-widgets/base",
     "model_module_version": "1.2.0",
     "model_name": "LayoutModel",
     "state": {
      "_model_module": "@jupyter-widgets/base",
      "_model_module_version": "1.2.0",
      "_model_name": "LayoutModel",
      "_view_count": null,
      "_view_module": "@jupyter-widgets/base",
      "_view_module_version": "1.2.0",
      "_view_name": "LayoutView",
      "align_content": null,
      "align_items": null,
      "align_self": null,
      "border": null,
      "bottom": null,
      "display": null,
      "flex": null,
      "flex_flow": null,
      "grid_area": null,
      "grid_auto_columns": null,
      "grid_auto_flow": null,
      "grid_auto_rows": null,
      "grid_column": null,
      "grid_gap": null,
      "grid_row": null,
      "grid_template_areas": null,
      "grid_template_columns": null,
      "grid_template_rows": null,
      "height": null,
      "justify_content": null,
      "justify_items": null,
      "left": null,
      "margin": null,
      "max_height": null,
      "max_width": null,
      "min_height": null,
      "min_width": null,
      "object_fit": null,
      "object_position": null,
      "order": null,
      "overflow": null,
      "overflow_x": null,
      "overflow_y": null,
      "padding": null,
      "right": null,
      "top": null,
      "visibility": null,
      "width": null
     }
    },
    "86d1bdda682e41eda597fbaa4999edc0": {
     "model_module": "@jupyter-widgets/controls",
     "model_module_version": "1.5.0",
     "model_name": "HTMLModel",
     "state": {
      "_dom_classes": [],
      "_model_module": "@jupyter-widgets/controls",
      "_model_module_version": "1.5.0",
      "_model_name": "HTMLModel",
      "_view_count": null,
      "_view_module": "@jupyter-widgets/controls",
      "_view_module_version": "1.5.0",
      "_view_name": "HTMLView",
      "description": "",
      "description_tooltip": null,
      "layout": "IPY_MODEL_2d6b86a20af44b97821546df3cb6971b",
      "placeholder": "​",
      "style": "IPY_MODEL_b6ec34fd800741f89dcc86c61b001dd7",
      "value": "100%"
     }
    },
    "95c71a88e38b4499bd7f8abb182ac822": {
     "model_module": "@jupyter-widgets/controls",
     "model_module_version": "1.5.0",
     "model_name": "FloatProgressModel",
     "state": {
      "_dom_classes": [],
      "_model_module": "@jupyter-widgets/controls",
      "_model_module_version": "1.5.0",
      "_model_name": "FloatProgressModel",
      "_view_count": null,
      "_view_module": "@jupyter-widgets/controls",
      "_view_module_version": "1.5.0",
      "_view_name": "ProgressView",
      "bar_style": "success",
      "description": "",
      "description_tooltip": null,
      "layout": "IPY_MODEL_cd10d783eb79455fb421aeaf14c16eff",
      "max": 1648877,
      "min": 0,
      "orientation": "horizontal",
      "style": "IPY_MODEL_6305af20417145afa3a1b4698102e852",
      "value": 1648877
     }
    },
    "a571229763c04dfda6b0d20f3dcb3b76": {
     "model_module": "@jupyter-widgets/controls",
     "model_module_version": "1.5.0",
     "model_name": "ProgressStyleModel",
     "state": {
      "_model_module": "@jupyter-widgets/controls",
      "_model_module_version": "1.5.0",
      "_model_name": "ProgressStyleModel",
      "_view_count": null,
      "_view_module": "@jupyter-widgets/base",
      "_view_module_version": "1.2.0",
      "_view_name": "StyleView",
      "bar_color": null,
      "description_width": ""
     }
    },
    "a65082e26b204ea7a6282eeee42e2023": {
     "model_module": "@jupyter-widgets/controls",
     "model_module_version": "1.5.0",
     "model_name": "HBoxModel",
     "state": {
      "_dom_classes": [],
      "_model_module": "@jupyter-widgets/controls",
      "_model_module_version": "1.5.0",
      "_model_name": "HBoxModel",
      "_view_count": null,
      "_view_module": "@jupyter-widgets/controls",
      "_view_module_version": "1.5.0",
      "_view_name": "HBoxView",
      "box_style": "",
      "children": [
       "IPY_MODEL_27cf5c5cdf6e488ba7c42782e2593a1e",
       "IPY_MODEL_64dfef7a6eac4a709e15fb8a444fee75",
       "IPY_MODEL_1417b325ff6a4a21940252c8e73cd0d1"
      ],
      "layout": "IPY_MODEL_4b9ac935e94e436782f02819055c5253"
     }
    },
    "b127a5aac7cb454d945298fd99893f5d": {
     "model_module": "@jupyter-widgets/controls",
     "model_module_version": "1.5.0",
     "model_name": "DescriptionStyleModel",
     "state": {
      "_model_module": "@jupyter-widgets/controls",
      "_model_module_version": "1.5.0",
      "_model_name": "DescriptionStyleModel",
      "_view_count": null,
      "_view_module": "@jupyter-widgets/base",
      "_view_module_version": "1.2.0",
      "_view_name": "StyleView",
      "description_width": ""
     }
    },
    "b1e3364e9a034c459d221334e4da7044": {
     "model_module": "@jupyter-widgets/controls",
     "model_module_version": "1.5.0",
     "model_name": "FloatProgressModel",
     "state": {
      "_dom_classes": [],
      "_model_module": "@jupyter-widgets/controls",
      "_model_module_version": "1.5.0",
      "_model_name": "FloatProgressModel",
      "_view_count": null,
      "_view_module": "@jupyter-widgets/controls",
      "_view_module_version": "1.5.0",
      "_view_name": "ProgressView",
      "bar_style": "success",
      "description": "",
      "description_tooltip": null,
      "layout": "IPY_MODEL_60578456863d494f9447aa7a4c8b4320",
      "max": 28881,
      "min": 0,
      "orientation": "horizontal",
      "style": "IPY_MODEL_40f15f1d5ea44e15befd27e3d7080a8b",
      "value": 28881
     }
    },
    "b6ec34fd800741f89dcc86c61b001dd7": {
     "model_module": "@jupyter-widgets/controls",
     "model_module_version": "1.5.0",
     "model_name": "DescriptionStyleModel",
     "state": {
      "_model_module": "@jupyter-widgets/controls",
      "_model_module_version": "1.5.0",
      "_model_name": "DescriptionStyleModel",
      "_view_count": null,
      "_view_module": "@jupyter-widgets/base",
      "_view_module_version": "1.2.0",
      "_view_name": "StyleView",
      "description_width": ""
     }
    },
    "bd980069e2e3444981d258f2b97d15b2": {
     "model_module": "@jupyter-widgets/base",
     "model_module_version": "1.2.0",
     "model_name": "LayoutModel",
     "state": {
      "_model_module": "@jupyter-widgets/base",
      "_model_module_version": "1.2.0",
      "_model_name": "LayoutModel",
      "_view_count": null,
      "_view_module": "@jupyter-widgets/base",
      "_view_module_version": "1.2.0",
      "_view_name": "LayoutView",
      "align_content": null,
      "align_items": null,
      "align_self": null,
      "border": null,
      "bottom": null,
      "display": null,
      "flex": null,
      "flex_flow": null,
      "grid_area": null,
      "grid_auto_columns": null,
      "grid_auto_flow": null,
      "grid_auto_rows": null,
      "grid_column": null,
      "grid_gap": null,
      "grid_row": null,
      "grid_template_areas": null,
      "grid_template_columns": null,
      "grid_template_rows": null,
      "height": null,
      "justify_content": null,
      "justify_items": null,
      "left": null,
      "margin": null,
      "max_height": null,
      "max_width": null,
      "min_height": null,
      "min_width": null,
      "object_fit": null,
      "object_position": null,
      "order": null,
      "overflow": null,
      "overflow_x": null,
      "overflow_y": null,
      "padding": null,
      "right": null,
      "top": null,
      "visibility": null,
      "width": null
     }
    },
    "c28bbf487895461285ea9dfbecf9b455": {
     "model_module": "@jupyter-widgets/controls",
     "model_module_version": "1.5.0",
     "model_name": "HTMLModel",
     "state": {
      "_dom_classes": [],
      "_model_module": "@jupyter-widgets/controls",
      "_model_module_version": "1.5.0",
      "_model_name": "HTMLModel",
      "_view_count": null,
      "_view_module": "@jupyter-widgets/controls",
      "_view_module_version": "1.5.0",
      "_view_name": "HTMLView",
      "description": "",
      "description_tooltip": null,
      "layout": "IPY_MODEL_dee5281fe3cc445aa8f2b97aaef52e48",
      "placeholder": "​",
      "style": "IPY_MODEL_d592cfa1aecf45ac82012741c435a27a",
      "value": " 28881/28881 [00:00&lt;00:00, 812418.72it/s]"
     }
    },
    "cd10d783eb79455fb421aeaf14c16eff": {
     "model_module": "@jupyter-widgets/base",
     "model_module_version": "1.2.0",
     "model_name": "LayoutModel",
     "state": {
      "_model_module": "@jupyter-widgets/base",
      "_model_module_version": "1.2.0",
      "_model_name": "LayoutModel",
      "_view_count": null,
      "_view_module": "@jupyter-widgets/base",
      "_view_module_version": "1.2.0",
      "_view_name": "LayoutView",
      "align_content": null,
      "align_items": null,
      "align_self": null,
      "border": null,
      "bottom": null,
      "display": null,
      "flex": null,
      "flex_flow": null,
      "grid_area": null,
      "grid_auto_columns": null,
      "grid_auto_flow": null,
      "grid_auto_rows": null,
      "grid_column": null,
      "grid_gap": null,
      "grid_row": null,
      "grid_template_areas": null,
      "grid_template_columns": null,
      "grid_template_rows": null,
      "height": null,
      "justify_content": null,
      "justify_items": null,
      "left": null,
      "margin": null,
      "max_height": null,
      "max_width": null,
      "min_height": null,
      "min_width": null,
      "object_fit": null,
      "object_position": null,
      "order": null,
      "overflow": null,
      "overflow_x": null,
      "overflow_y": null,
      "padding": null,
      "right": null,
      "top": null,
      "visibility": null,
      "width": null
     }
    },
    "d592cfa1aecf45ac82012741c435a27a": {
     "model_module": "@jupyter-widgets/controls",
     "model_module_version": "1.5.0",
     "model_name": "DescriptionStyleModel",
     "state": {
      "_model_module": "@jupyter-widgets/controls",
      "_model_module_version": "1.5.0",
      "_model_name": "DescriptionStyleModel",
      "_view_count": null,
      "_view_module": "@jupyter-widgets/base",
      "_view_module_version": "1.2.0",
      "_view_name": "StyleView",
      "description_width": ""
     }
    },
    "d9fde86b86094cddba9ec7cf461750bd": {
     "model_module": "@jupyter-widgets/controls",
     "model_module_version": "1.5.0",
     "model_name": "HBoxModel",
     "state": {
      "_dom_classes": [],
      "_model_module": "@jupyter-widgets/controls",
      "_model_module_version": "1.5.0",
      "_model_name": "HBoxModel",
      "_view_count": null,
      "_view_module": "@jupyter-widgets/controls",
      "_view_module_version": "1.5.0",
      "_view_name": "HBoxView",
      "box_style": "",
      "children": [
       "IPY_MODEL_de2fb55869044d618c4e68b88b1a14a2",
       "IPY_MODEL_95c71a88e38b4499bd7f8abb182ac822",
       "IPY_MODEL_467746f6a10744a9b0116c3bdeb43821"
      ],
      "layout": "IPY_MODEL_5dc3193d77ed4cf6abccaadeab2e0e16"
     }
    },
    "de2fb55869044d618c4e68b88b1a14a2": {
     "model_module": "@jupyter-widgets/controls",
     "model_module_version": "1.5.0",
     "model_name": "HTMLModel",
     "state": {
      "_dom_classes": [],
      "_model_module": "@jupyter-widgets/controls",
      "_model_module_version": "1.5.0",
      "_model_name": "HTMLModel",
      "_view_count": null,
      "_view_module": "@jupyter-widgets/controls",
      "_view_module_version": "1.5.0",
      "_view_name": "HTMLView",
      "description": "",
      "description_tooltip": null,
      "layout": "IPY_MODEL_0c158ac3a2734b26b87f1b160f6c9af1",
      "placeholder": "​",
      "style": "IPY_MODEL_fba2fee83a234fe594d85004dab41ffa",
      "value": "100%"
     }
    },
    "dee5281fe3cc445aa8f2b97aaef52e48": {
     "model_module": "@jupyter-widgets/base",
     "model_module_version": "1.2.0",
     "model_name": "LayoutModel",
     "state": {
      "_model_module": "@jupyter-widgets/base",
      "_model_module_version": "1.2.0",
      "_model_name": "LayoutModel",
      "_view_count": null,
      "_view_module": "@jupyter-widgets/base",
      "_view_module_version": "1.2.0",
      "_view_name": "LayoutView",
      "align_content": null,
      "align_items": null,
      "align_self": null,
      "border": null,
      "bottom": null,
      "display": null,
      "flex": null,
      "flex_flow": null,
      "grid_area": null,
      "grid_auto_columns": null,
      "grid_auto_flow": null,
      "grid_auto_rows": null,
      "grid_column": null,
      "grid_gap": null,
      "grid_row": null,
      "grid_template_areas": null,
      "grid_template_columns": null,
      "grid_template_rows": null,
      "height": null,
      "justify_content": null,
      "justify_items": null,
      "left": null,
      "margin": null,
      "max_height": null,
      "max_width": null,
      "min_height": null,
      "min_width": null,
      "object_fit": null,
      "object_position": null,
      "order": null,
      "overflow": null,
      "overflow_x": null,
      "overflow_y": null,
      "padding": null,
      "right": null,
      "top": null,
      "visibility": null,
      "width": null
     }
    },
    "eb66aed2f5754919a2e96dc51a6b4d69": {
     "model_module": "@jupyter-widgets/controls",
     "model_module_version": "1.5.0",
     "model_name": "DescriptionStyleModel",
     "state": {
      "_model_module": "@jupyter-widgets/controls",
      "_model_module_version": "1.5.0",
      "_model_name": "DescriptionStyleModel",
      "_view_count": null,
      "_view_module": "@jupyter-widgets/base",
      "_view_module_version": "1.2.0",
      "_view_name": "StyleView",
      "description_width": ""
     }
    },
    "fba2fee83a234fe594d85004dab41ffa": {
     "model_module": "@jupyter-widgets/controls",
     "model_module_version": "1.5.0",
     "model_name": "DescriptionStyleModel",
     "state": {
      "_model_module": "@jupyter-widgets/controls",
      "_model_module_version": "1.5.0",
      "_model_name": "DescriptionStyleModel",
      "_view_count": null,
      "_view_module": "@jupyter-widgets/base",
      "_view_module_version": "1.2.0",
      "_view_name": "StyleView",
      "description_width": ""
     }
    }
   }
  }
 },
 "nbformat": 4,
 "nbformat_minor": 1
}
